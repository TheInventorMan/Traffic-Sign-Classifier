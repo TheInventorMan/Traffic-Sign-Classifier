{
 "cells": [
  {
   "cell_type": "markdown",
   "metadata": {},
   "source": [
    "# Self-Driving Car Engineer Nanodegree\n",
    "\n",
    "## Deep Learning\n",
    "\n",
    "## Project Writeup: Build a Traffic Sign Recognition Classifier\n",
    "\n",
    "The goals / steps of this project are the following:\n",
    "* Load the data set (see below for links to the project data set)\n",
    "* Explore, summarize and visualize the data set\n",
    "* Design, train and test a model architecture\n",
    "* Use the model to make predictions on new images\n",
    "* Analyze the softmax probabilities of the new images\n",
    "* Summarize the results with a written report\n",
    "\n",
    "\n",
    "[//]: # (Image References)\n",
    "\n",
    "[image1]: ./examples/visualization.jpg \"Visualization\"\n",
    "[image2]: ./examples/grayscale.jpg \"Grayscaling\"\n",
    "[image3]: ./examples/random_noise.jpg \"Random Noise\"\n",
    "\n",
    "[image4]: ./test_images/1.jpg \"Traffic Sign 1\"\n",
    "[image5]: ./test_images/2.jpg \"Traffic Sign 2\"\n",
    "[image6]: ./test_images/3.jpg \"Traffic Sign 3\"\n",
    "[image7]: ./test_images/4.jpg \"Traffic Sign 4\"\n",
    "[image8]: ./test_images/5.jpg \"Traffic Sign 5\"\n",
    "\n",
    "\n",
    "## Rubric Points\n",
    "### Here I will consider the [rubric points](https://review.udacity.com/#!/rubrics/481/view) individually and describe how I addressed each point in my implementation.  "
   ]
  },
  {
   "cell_type": "markdown",
   "metadata": {},
   "source": [
    "---\n",
    "## Step 0: Load The Data\n",
    "\n",
    "In addition to the main datasets, I also loaded the signnames.csv file as a dictionary for looking up label numbers later."
   ]
  },
  {
   "cell_type": "code",
   "execution_count": 1,
   "metadata": {},
   "outputs": [],
   "source": [
    "# Load pickled data\n",
    "import pickle\n",
    "import numpy as np\n",
    "\n",
    "label_lookup = {}\n",
    "\n",
    "label_csv = open('signnames.csv', 'r')\n",
    "for line in label_csv:\n",
    "    splitted = line.split(',')\n",
    "    label_lookup[splitted[0]] = splitted[1][:-1] #removes \\n character\n",
    "label_csv.close()\n",
    "\n",
    "training_file = \"train.p\"\n",
    "validation_file = \"valid.p\"\n",
    "testing_file = \"test.p\"\n",
    "\n",
    "with open(training_file, mode='rb') as f:\n",
    "    train = pickle.load(f)\n",
    "with open(validation_file, mode='rb') as f:\n",
    "    valid = pickle.load(f)\n",
    "with open(testing_file, mode='rb') as f:\n",
    "    test = pickle.load(f)\n",
    "    \n",
    "X_train, y_train = train['features'], train['labels']\n",
    "X_valid, y_valid = valid['features'], valid['labels']\n",
    "X_test, y_test = test['features'], test['labels']"
   ]
  },
  {
   "cell_type": "markdown",
   "metadata": {},
   "source": [
    "---\n",
    "\n",
    "## Step 1: Dataset Summary & Exploration"
   ]
  },
  {
   "cell_type": "markdown",
   "metadata": {},
   "source": [
    "### Q1. Provide a Basic Summary of the Data Set Using Python, Numpy and/or Pandas\n",
    "\n",
    "I didn't use Numpy or Pandas for pulling any information about the dataset since, as I found out, all the required information was already encoded in the lengths of various subarrays."
   ]
  },
  {
   "cell_type": "code",
   "execution_count": 2,
   "metadata": {},
   "outputs": [
    {
     "name": "stdout",
     "output_type": "stream",
     "text": [
      "Number of training examples = 34799\n",
      "Number of validation examples = 4410\n",
      "Number of testing examples = 12630\n",
      "Image data shape = 32x32\n",
      "Number of classes = 43\n"
     ]
    }
   ],
   "source": [
    "# Number of training examples\n",
    "n_train = len(train['features'])\n",
    "\n",
    "# Number of validation examples\n",
    "n_validation = len(valid['features'])\n",
    "\n",
    "# Number of testing examples.\n",
    "n_test = len(test['features'])\n",
    "\n",
    "# Shape of a traffic sign image.\n",
    "image_shape = str(len(train['features'][0])) + \"x\" + str(len(train['features'][1]))\n",
    "\n",
    "# Number of unique classes/labels in the dataset.\n",
    "n_classes = len(label_lookup)-1 #disregard first line from csv file\n",
    "\n",
    "print(\"Number of training examples =\", n_train)\n",
    "print(\"Number of validation examples =\", n_validation)\n",
    "print(\"Number of testing examples =\", n_test)\n",
    "print(\"Image data shape =\", image_shape)\n",
    "print(\"Number of classes =\", n_classes)"
   ]
  },
  {
   "cell_type": "markdown",
   "metadata": {},
   "source": [
    "### Q2. Include an exploratory visualization of the dataset"
   ]
  },
  {
   "cell_type": "markdown",
   "metadata": {},
   "source": [
    "To simply \"get a feel\" for what the network will be trained on, I randomly pulled an example from the training set, as well as its associated label. \n",
    "\n",
    "Next, to find out the distributions of classes in each of the datasets, I generated a histogram which counted the frequency of labels in each of the training, validation, and test sets. \n",
    "\n",
    "One thing that's quite apparent is that there is significantly more data available for the labels that are numerically lower. My immediate guess would be that those signs are simply more common than the others—the lower numbers include speed limit signs, which (intuitively) could be of the more common road signs.\n",
    "\n",
    "The important part is that the distribution is *generally* similar across the three datasets, and that should ensure training accuracy."
   ]
  },
  {
   "cell_type": "code",
   "execution_count": 57,
   "metadata": {},
   "outputs": [
    {
     "name": "stdout",
     "output_type": "stream",
     "text": [
      "14\n",
      "Stop\n"
     ]
    },
    {
     "data": {
      "image/png": "[encoded data removed]",
      "text/plain": [
       "<Figure size 216x216 with 1 Axes>"
      ]
     },
     "metadata": {
      "needs_background": "light"
     },
     "output_type": "display_data"
    }
   ],
   "source": [
    "### Data exploration visualization code goes here.\n",
    "### Feel free to use as many code cells as needed.\n",
    "import matplotlib.pyplot as plt\n",
    "import random\n",
    "# Visualizations will be shown in the notebook.\n",
    "%matplotlib inline\n",
    "index = random.randint(0, len(X_train))\n",
    "image = X_train[index].squeeze()\n",
    "\n",
    "plt.figure(figsize=(3,3))\n",
    "plt.imshow(image, cmap=\"gray\")\n",
    "label_num = y_train[index]\n",
    "print(label_num)\n",
    "print(label_lookup[str(label_num)])"
   ]
  },
  {
   "cell_type": "code",
   "execution_count": 88,
   "metadata": {},
   "outputs": [
    {
     "data": {
      "image/png": "[encoded data removed]",
      "text/plain": [
       "<Figure size 432x288 with 1 Axes>"
      ]
     },
     "metadata": {
      "needs_background": "light"
     },
     "output_type": "display_data"
    }
   ],
   "source": [
    "# Training set\n",
    "hist, bins = np.histogram(y_train, bins=n_classes)\n",
    "\n",
    "width = (bins[1] - bins[0])*0.75\n",
    "center = (bins[:-1] + bins[1:])/2\n",
    "\n",
    "plt.bar(center, hist, align='center', width=width)\n",
    "plt.show()"
   ]
  },
  {
   "cell_type": "code",
   "execution_count": 89,
   "metadata": {},
   "outputs": [
    {
     "data": {
      "image/png": "[encoded data removed]",
      "text/plain": [
       "<Figure size 432x288 with 1 Axes>"
      ]
     },
     "metadata": {
      "needs_background": "light"
     },
     "output_type": "display_data"
    }
   ],
   "source": [
    "# Validation set\n",
    "hist, bins = np.histogram(y_valid, bins=n_classes)\n",
    "\n",
    "width = (bins[1] - bins[0])*0.75\n",
    "center = (bins[:-1] + bins[1:])/2\n",
    "\n",
    "plt.bar(center, hist, align='center', width=width)\n",
    "plt.show()"
   ]
  },
  {
   "cell_type": "code",
   "execution_count": 90,
   "metadata": {},
   "outputs": [
    {
     "data": {
      "image/png": "[encoded data removed]",
      "text/plain": [
       "<Figure size 432x288 with 1 Axes>"
      ]
     },
     "metadata": {
      "needs_background": "light"
     },
     "output_type": "display_data"
    }
   ],
   "source": [
    "#Test set\n",
    "hist, bins = np.histogram(y_test, bins=n_classes)\n",
    "\n",
    "width = (bins[1] - bins[0])*0.75\n",
    "center = (bins[:-1] + bins[1:])/2\n",
    "\n",
    "plt.bar(center, hist, align='center', width=width)\n",
    "plt.show()"
   ]
  },
  {
   "cell_type": "markdown",
   "metadata": {},
   "source": [
    "----\n",
    "\n",
    "## Step 2: Design and Test a Model Architecture"
   ]
  },
  {
   "cell_type": "markdown",
   "metadata": {},
   "source": [
    "### Q3. Pre-process the Data Set (normalization, grayscale, etc.)"
   ]
  },
  {
   "cell_type": "markdown",
   "metadata": {},
   "source": [
    "To preprocess the data, I first shuffled the training set so that the network is not trained on the *order* of the data. Next, I converted all of the images to grayscale by taking the mean of the RGB channels. Finally, I normalized the data using the given technique to bring the pixel values between -1 and 1."
   ]
  },
  {
   "cell_type": "code",
   "execution_count": 4,
   "metadata": {},
   "outputs": [],
   "source": [
    "from sklearn.utils import shuffle\n",
    "\n",
    "X_train, y_train = shuffle(X_train, y_train)\n",
    "X_train = np.mean(X_train, axis=3, keepdims=True)\n",
    "X_valid = np.mean(X_valid, axis=3, keepdims=True)\n",
    "X_test = np.mean(X_test, axis=3, keepdims=True)\n",
    "\n",
    "X_train = (X_train-128)/128\n",
    "X_valid = (X_valid-128)/128\n",
    "X_test = (X_test-128)/128"
   ]
  },
  {
   "cell_type": "markdown",
   "metadata": {},
   "source": [
    "### Model Architecture\n",
    "\n",
    "I began by using the original LeNet-5 architecture from lecture and only achieved a validation set accuracy of 86%. I decided to play around a bit and added another fully connected layer between the two existing ones with the same number of inputs and outputs (84). This resulted in a validation set accuracy of 88%: an improvement of 2%, or 88 examples out of the validation set size of 4410.\n",
    "\n",
    "Applying the concepts from the linked Sermanet/LeCun paper significantly improved performance of the network. I was able to achieve a validation set accuracy of over 97% and a test set accuracy of over 95%. During the tuning process, I set the number of epochs absurdly high (500 at times) to analyze the behavior far beyond initial convergence. One thing that I noticed was that the accuracy jumped all over the place as it was converging, and beyond. To solve this, I switched to Leaky ReLU activations for all of the non-linear layers. Convergence noise was significantly reduced.\n",
    "\n",
    "As an added challenge, I attempted to incorporate an inception module in the second layer by passing the inputs through a 3x3 convolution in addition to the original 5x5, and concatenating the outputs to be sent through the rest of the network. Needless to say, the number of parameters increased significantly because of the \"branch and merge\" step later in the network. There was an improvement in the validation set accuracy of 0.2%, but no change to the test set accuracy. It did, however, take a **lot** more time to train and evaluate. Oh well...\n",
    "\n",
    "#### Here's the architecture of the final model (\"Attempt 3\" below):\n",
    "\n",
    "0\\. Input (32x32x1 images) \n",
    "\n",
    "---\n",
    "\n",
    "1\\. (a) Convolutional. 5x5, 1x1 stride. Input = 32x32x1. Output = 28x28x6\n",
    "\n",
    "1\\. (b) Leaky ReLU activation\n",
    "\n",
    "1\\. (c) Max pooling. 2x2, 2x2 stride. Input = 28x28x6. Output = 14x14x6.\n",
    "\n",
    "---\n",
    "2\\. (a) Convolutional. 5x5, 1x1 stride, Input = 14x14x6 Output = 10x10x16.\n",
    "\n",
    "2\\. (b) Leaky ReLU activation\n",
    "\n",
    "2\\. (c) Max pooling. 2x2, 2x2 stride. Input = 10x10x16. Output = 5x5x16.\n",
    "\n",
    "---\n",
    "3\\. Flatten layer 2 and branch\n",
    "\n",
    "---\n",
    "4\\. (a) Convolutional. 5x5, 1x1 stride. Input = 5x5x16. Output = 1x1x400.\n",
    "\n",
    "4\\. (b) Leaky ReLU activation\n",
    "\n",
    "---\n",
    "5\\. (a) Flatten layer 4 and stack with output of step 3. Output = 1x1x800.\n",
    "\n",
    "5\\. (b) Dropout layer\n",
    "\n",
    "---\n",
    "6\\. (a) Fully-connected. Input = 800. Output = 120.\n",
    "\n",
    "6\\. (b) Leaky ReLU activation\n",
    "\n",
    "6\\. (c) Dropout layer\n",
    "\n",
    "---\n",
    "7\\. (a) Fully-connected. Input = 120. Output = 84.\n",
    "\n",
    "7\\. (b) Leaky ReLU activation\n",
    "\n",
    "7\\. (c) Dropout layer\n",
    "\n",
    "---\n",
    "8\\. (a) Fully-connected. Input = 84. Output = 43.\n",
    "\n",
    "8\\. (b) Logit output\n",
    "\n"
   ]
  },
  {
   "cell_type": "markdown",
   "metadata": {},
   "source": [
    "#### Attempt 1: Original LeNet-5 from Lab. \n",
    "##### Max validation accuracy = 86%"
   ]
  },
  {
   "cell_type": "code",
   "execution_count": 92,
   "metadata": {},
   "outputs": [],
   "source": [
    "import tensorflow as tf\n",
    "from tensorflow.contrib.layers import flatten\n",
    "\n",
    "def LeNet5(x):    \n",
    "    # Arguments used for tf.truncated_normal, randomly defines variables for the weights and biases for each layer\n",
    "    mu = 0\n",
    "    sigma = 0.1\n",
    "    \n",
    "    # Layer 1: Convolutional. Input = 32x32x1. Output = 28x28x6.\n",
    "    conv1_W = tf.Variable(tf.truncated_normal(shape=(5, 5, 1, 6), mean = mu, stddev = sigma))\n",
    "    conv1_b = tf.Variable(tf.zeros(6))\n",
    "    conv1   = tf.nn.conv2d(x, conv1_W, strides=[1, 1, 1, 1], padding='VALID') + conv1_b\n",
    "\n",
    "    # Activation.\n",
    "    conv1 = tf.nn.relu(conv1)\n",
    "\n",
    "    # Pooling. Input = 28x28x6. Output = 14x14x6.\n",
    "    conv1 = tf.nn.max_pool(conv1, ksize=[1, 2, 2, 1], strides=[1, 2, 2, 1], padding='VALID')\n",
    "\n",
    "    # Layer 2: Convolutional. Output = 10x10x16.\n",
    "    conv2_W = tf.Variable(tf.truncated_normal(shape=(5, 5, 6, 16), mean = mu, stddev = sigma))\n",
    "    conv2_b = tf.Variable(tf.zeros(16))\n",
    "    conv2   = tf.nn.conv2d(conv1, conv2_W, strides=[1, 1, 1, 1], padding='VALID') + conv2_b\n",
    "    \n",
    "    # Activation.\n",
    "    conv2 = tf.nn.relu(conv2)\n",
    "\n",
    "    # Pooling. Input = 10x10x16. Output = 5x5x16.\n",
    "    conv2 = tf.nn.max_pool(conv2, ksize=[1, 2, 2, 1], strides=[1, 2, 2, 1], padding='VALID')\n",
    "\n",
    "    # Flatten. Input = 5x5x16. Output = 400.\n",
    "    fc0   = flatten(conv2)\n",
    "    \n",
    "    # Layer 3: Fully Connected. Input = 400. Output = 120.\n",
    "    fc1_W = tf.Variable(tf.truncated_normal(shape=(400, 120), mean = mu, stddev = sigma))\n",
    "    fc1_b = tf.Variable(tf.zeros(120))\n",
    "    fc1   = tf.matmul(fc0, fc1_W) + fc1_b\n",
    "    \n",
    "    # Activation.\n",
    "    fc1    = tf.nn.relu(fc1)\n",
    "\n",
    "    # Layer 4: Fully Connected. Input = 120. Output = 84.\n",
    "    fc2_W  = tf.Variable(tf.truncated_normal(shape=(120, 84), mean = mu, stddev = sigma))\n",
    "    fc2_b  = tf.Variable(tf.zeros(84))\n",
    "    fc2    = tf.matmul(fc1, fc2_W) + fc2_b\n",
    "    \n",
    "    # Activation.\n",
    "    fc2    = tf.nn.relu(fc2)\n",
    "\n",
    "    # Layer 5: Fully Connected. Input = 84. Output = 43.\n",
    "    fc3_W  = tf.Variable(tf.truncated_normal(shape=(84, 43), mean = mu, stddev = sigma))\n",
    "    fc3_b  = tf.Variable(tf.zeros(43))\n",
    "    logits = tf.matmul(fc2, fc3_W) + fc3_b\n",
    "    \n",
    "    return logits\n"
   ]
  },
  {
   "cell_type": "markdown",
   "metadata": {},
   "source": [
    "#### Attempt 2: Added another fully-connected layer and called it LeNet-6.\n",
    "##### Max validation accuracy = 88%"
   ]
  },
  {
   "cell_type": "code",
   "execution_count": null,
   "metadata": {},
   "outputs": [],
   "source": [
    "import tensorflow as tf\n",
    "from tensorflow.contrib.layers import flatten\n",
    "\n",
    "def LeNet6(x):    \n",
    "    # Arguments used for tf.truncated_normal, randomly defines variables for the weights and biases for each layer\n",
    "    mu = 0\n",
    "    sigma = 0.1\n",
    "    \n",
    "    # Layer 1: Convolutional. Input = 32x32x1. Output = 28x28x6.\n",
    "    conv1_W = tf.Variable(tf.truncated_normal(shape=(5, 5, 1, 6), mean = mu, stddev = sigma))\n",
    "    conv1_b = tf.Variable(tf.zeros(6))\n",
    "    conv1   = tf.nn.conv2d(x, conv1_W, strides=[1, 1, 1, 1], padding='VALID') + conv1_b\n",
    "\n",
    "    # Activation.\n",
    "    conv1 = tf.nn.relu(conv1)\n",
    "\n",
    "    # Pooling. Input = 28x28x6. Output = 14x14x6.\n",
    "    conv1 = tf.nn.max_pool(conv1, ksize=[1, 2, 2, 1], strides=[1, 2, 2, 1], padding='VALID')\n",
    "\n",
    "    # Layer 2: Convolutional. Output = 10x10x16.\n",
    "    conv2_W = tf.Variable(tf.truncated_normal(shape=(5, 5, 6, 16), mean = mu, stddev = sigma))\n",
    "    conv2_b = tf.Variable(tf.zeros(16))\n",
    "    conv2   = tf.nn.conv2d(conv1, conv2_W, strides=[1, 1, 1, 1], padding='VALID') + conv2_b\n",
    "    \n",
    "    # Activation.\n",
    "    conv2 = tf.nn.relu(conv2)\n",
    "\n",
    "    # Pooling. Input = 10x10x16. Output = 5x5x16.\n",
    "    conv2 = tf.nn.max_pool(conv2, ksize=[1, 2, 2, 1], strides=[1, 2, 2, 1], padding='VALID')\n",
    "\n",
    "    # Flatten. Input = 5x5x16. Output = 400.\n",
    "    fc0   = flatten(conv2)\n",
    "    \n",
    "    # Layer 3: Fully Connected. Input = 400. Output = 120.\n",
    "    fc1_W = tf.Variable(tf.truncated_normal(shape=(400, 120), mean = mu, stddev = sigma))\n",
    "    fc1_b = tf.Variable(tf.zeros(120))\n",
    "    fc1   = tf.matmul(fc0, fc1_W) + fc1_b\n",
    "    \n",
    "    # Activation.\n",
    "    fc1    = tf.nn.relu(fc1)\n",
    "\n",
    "    # Layer 4: Fully Connected. Input = 120. Output = 84.\n",
    "    fc2_W  = tf.Variable(tf.truncated_normal(shape=(120, 84), mean = mu, stddev = sigma))\n",
    "    fc2_b  = tf.Variable(tf.zeros(84))\n",
    "    fc2    = tf.matmul(fc1, fc2_W) + fc2_b\n",
    "    \n",
    "    # Activation.\n",
    "    fc2    = tf.nn.relu(fc2)\n",
    "\n",
    "    # Layer 5: Fully Connected. Input = 84. Output = 84.\n",
    "    fc3_W  = tf.Variable(tf.truncated_normal(shape=(84, 84), mean = mu, stddev = sigma))\n",
    "    fc3_b  = tf.Variable(tf.zeros(84))\n",
    "    fc3    = tf.matmul(fc2, fc3_W) + fc3_b\n",
    "    \n",
    "    # Activation.\n",
    "    fc3    = tf.nn.relu(fc3)\n",
    "    \n",
    "    # Layer 6: Fully Connected. Input = 84. Output = 43.    \n",
    "    fc4_W  = tf.Variable(tf.truncated_normal(shape=(84, n_classes), mean = mu, stddev = sigma))\n",
    "    fc4_b  = tf.Variable(tf.zeros(n_classes))\n",
    "    logits = tf.matmul(fc3, fc4_W) + fc4_b\n",
    "    \n",
    "    return logits\n"
   ]
  },
  {
   "cell_type": "markdown",
   "metadata": {},
   "source": [
    "#### Attempt 3: Implemented the branching scheme from the Sermanet/LeCun paper and used Leaky ReLU activations. \n",
    "\n",
    "[Link to the paper](http://yann.lecun.com/exdb/publis/pdf/sermanet-ijcnn-11.pdf).\n",
    "##### Max validation accuracy = 97.4%, Test accuracy  = 95.4% (Best so far)"
   ]
  },
  {
   "cell_type": "code",
   "execution_count": 5,
   "metadata": {},
   "outputs": [],
   "source": [
    "import tensorflow as tf\n",
    "from tensorflow.contrib.layers import flatten\n",
    "\n",
    "\n",
    "def LeNet6v2(x):    \n",
    "    mu = 0\n",
    "    sigma = 0.1\n",
    "    \n",
    "    # Layer 1: Convolutional. Input = 32x32x1. Output = 28x28x6.\n",
    "    conv1_W = tf.Variable(tf.truncated_normal(shape=(5, 5, 1, 6), mean = mu, stddev = sigma))\n",
    "    conv1_b = tf.Variable(tf.zeros(6))\n",
    "    conv1   = tf.nn.conv2d(x, conv1_W, strides=[1, 1, 1, 1], padding='VALID') + conv1_b\n",
    "\n",
    "    # Activation.\n",
    "    conv1 = tf.nn.leaky_relu(conv1)\n",
    "\n",
    "    # Pooling. Input = 28x28x6. Output = 14x14x6.\n",
    "    conv1 = tf.nn.max_pool(conv1, ksize=[1, 2, 2, 1], strides=[1, 2, 2, 1], padding='VALID')\n",
    "\n",
    "    # Layer 2: Convolutional. Output = 10x10x16.\n",
    "    conv2_W = tf.Variable(tf.truncated_normal(shape=(5, 5, 6, 16), mean = mu, stddev = sigma))\n",
    "    conv2_b = tf.Variable(tf.zeros(16))\n",
    "    conv2   = tf.nn.conv2d(conv1, conv2_W, strides=[1, 1, 1, 1], padding='VALID') + conv2_b\n",
    "    \n",
    "    # Activation.\n",
    "    conv2 = tf.nn.leaky_relu(conv2)\n",
    "\n",
    "    # Pooling. Input = 10x10x16. Output = 5x5x16.\n",
    "    conv2 = tf.nn.max_pool(conv2, ksize=[1, 2, 2, 1], strides=[1, 2, 2, 1], padding='VALID')\n",
    "        \n",
    "    # Branch off bypass. Input = 5x5x16. Output = 400.\n",
    "    bypBranch = flatten(conv2)\n",
    "    \n",
    "    # Main feedforward path\n",
    "    # Layer 3: Convolutional. Input = 5x5x16. Output = 1x1x400.\n",
    "    conv3_W = tf.Variable(tf.truncated_normal(shape=(5, 5, 16, 400), mean = mu, stddev = sigma))\n",
    "    conv3_b = tf.Variable(tf.zeros(400))\n",
    "    conv3 = tf.nn.conv2d(conv2, conv3_W, strides=[1, 1, 1, 1], padding='VALID') + conv3_b\n",
    "    \n",
    "    # Activation\n",
    "    conv3 = tf.nn.leaky_relu(conv3)\n",
    "    \n",
    "    # Merge branches. Output = 800.\n",
    "    mainBranch = flatten(conv3)\n",
    "    fc0 = tf.concat([mainBranch, bypBranch], 1)\n",
    "    \n",
    "    fc0 = tf.nn.dropout(fc0, keep_prob)\n",
    "\n",
    "    # Layer 4: Fully Connected. Input = 800. Output = 120.\n",
    "    fc1_W = tf.Variable(tf.truncated_normal(shape=(800, 200), mean = mu, stddev = sigma))\n",
    "    fc1_b = tf.Variable(tf.zeros(200))\n",
    "    fc1   = tf.matmul(fc0, fc1_W) + fc1_b\n",
    "    \n",
    "    # Activation.\n",
    "    fc1    = tf.nn.leaky_relu(fc1)\n",
    "    \n",
    "    fc1 = tf.nn.dropout(fc1, keep_prob)\n",
    "    \n",
    "    # Layer 5: Fully Connected. Input = 120. Output = 84.\n",
    "    fc2_W  = tf.Variable(tf.truncated_normal(shape=(200, 84), mean = mu, stddev = sigma))\n",
    "    fc2_b  = tf.Variable(tf.zeros(84))\n",
    "    fc2    = tf.matmul(fc1, fc2_W) + fc2_b\n",
    "    \n",
    "    # Activation.\n",
    "    fc2    = tf.nn.leaky_relu(fc2)\n",
    "    \n",
    "    fc2 = tf.nn.dropout(fc2, keep_prob)\n",
    "\n",
    "    # Layer 6: Fully Connected. Input = 84. Output = 43.\n",
    "    fc3_W  = tf.Variable(tf.truncated_normal(shape=(84, n_classes), mean = mu, stddev = sigma))\n",
    "    fc3_b  = tf.Variable(tf.zeros(n_classes))\n",
    "    logits = tf.matmul(fc2, fc3_W) + fc3_b\n",
    "    \n",
    "    return logits\n"
   ]
  },
  {
   "cell_type": "markdown",
   "metadata": {},
   "source": [
    "#### Attempt 4: Added inception on the second convolution layer just for fun.\n",
    "##### Max validation accuracy = 97.6%, Test accuracy = 95.4%, but training was noticeably slower."
   ]
  },
  {
   "cell_type": "code",
   "execution_count": 87,
   "metadata": {},
   "outputs": [],
   "source": [
    "import tensorflow as tf\n",
    "from tensorflow.contrib.layers import flatten\n",
    "\n",
    "def LeCeption(x):    \n",
    "    mu = 0\n",
    "    sigma = 0.1\n",
    "    \n",
    "    # Layer 1: Convolutional. Input = 32x32x1. Output = 28x28x6.\n",
    "    conv1_W = tf.Variable(tf.truncated_normal(shape=(5, 5, 1, 6), mean = mu, stddev = sigma))\n",
    "    conv1_b = tf.Variable(tf.zeros(6))\n",
    "    conv1   = tf.nn.conv2d(x, conv1_W, strides=[1, 1, 1, 1], padding='VALID') + conv1_b\n",
    "\n",
    "    # Activation.\n",
    "    conv1 = tf.nn.leaky_relu(conv1)\n",
    "\n",
    "    # Pooling. Input = 28x28x6. Output = 14x14x6.\n",
    "    conv1 = tf.nn.max_pool(conv1, ksize=[1, 2, 2, 1], strides=[1, 2, 2, 1], padding='VALID')\n",
    "\n",
    "    # Layer 2_1: Convolutional (Inception 1). Input = 14x14x6. Output = 10x10x16.\n",
    "    conv21_W = tf.Variable(tf.truncated_normal(shape=(5, 5, 6, 16), mean = mu, stddev = sigma))\n",
    "    conv21_b = tf.Variable(tf.zeros(16))\n",
    "    conv21   = tf.nn.conv2d(conv1, conv21_W, strides=[1, 1, 1, 1], padding='VALID') + conv21_b\n",
    "    \n",
    "    # Layer 2_2: Convolutional (Inception 2). Input = 14x14x6. Output = 12x12x16.\n",
    "    conv22_W = tf.Variable(tf.truncated_normal(shape=(3, 3, 6, 16), mean = mu, stddev = sigma))\n",
    "    conv22_b = tf.Variable(tf.zeros(16))\n",
    "    conv22   = tf.nn.conv2d(conv1, conv22_W, strides=[1, 1, 1, 1], padding='VALID') + conv22_b\n",
    "    \n",
    "    # Layer 2_2: Double Max Pool. Input = 12x12x16. Output = 10x10x16\n",
    "    conv22 = tf.nn.max_pool(conv22, ksize=[1, 2, 2, 1], strides=[1, 1, 1, 1], padding='VALID')\n",
    "    conv22 = tf.nn.max_pool(conv22, ksize=[1, 2, 2, 1], strides=[1, 1, 1, 1], padding='VALID')\n",
    "    \n",
    "    # Inception Stack. Output = 10x10x32\n",
    "    conv2 = tf.concat((conv21, conv22), 3)\n",
    "    \n",
    "    # Activation.\n",
    "    conv2 = tf.nn.leaky_relu(conv2)\n",
    "\n",
    "    # Pooling. Input = 10x10x32. Output = 5x5x32.\n",
    "    conv2 = tf.nn.max_pool(conv2, ksize=[1, 2, 2, 1], strides=[1, 2, 2, 1], padding='VALID')\n",
    "        \n",
    "    # Branch off bypass. Input = 5x5x32. Output = 800.\n",
    "    bypBranch = flatten(conv2)\n",
    "    \n",
    "    # Main feedforward path\n",
    "    # Layer 3: Convolutional. Input = 5x5x32. Output = 1x1x800.\n",
    "    conv3_W = tf.Variable(tf.truncated_normal(shape=(5, 5, 32, 800), mean = mu, stddev = sigma))\n",
    "    conv3_b = tf.Variable(tf.zeros(800))\n",
    "    conv3 = tf.nn.conv2d(conv2, conv3_W, strides=[1, 1, 1, 1], padding='VALID') + conv3_b\n",
    "    \n",
    "    # Activation\n",
    "    conv3 = tf.nn.leaky_relu(conv3)\n",
    "    \n",
    "    # Merge branches. Output = 1600.\n",
    "    mainBranch = flatten(conv3)\n",
    "    fc0 = tf.concat([mainBranch, bypBranch], 1)\n",
    "    \n",
    "    fc0 = tf.nn.dropout(fc0, keep_prob)\n",
    "\n",
    "    # Layer 4: Fully Connected. Input = 1600. Output = 400.\n",
    "    fc1_W = tf.Variable(tf.truncated_normal(shape=(1600, 400), mean = mu, stddev = sigma))\n",
    "    fc1_b = tf.Variable(tf.zeros(400))\n",
    "    fc1   = tf.matmul(fc0, fc1_W) + fc1_b\n",
    "    # Activation.\n",
    "    fc1    = tf.nn.leaky_relu(fc1)\n",
    "    \n",
    "    fc1    = tf.nn.dropout(fc1, keep_prob)\n",
    "\n",
    "    # Layer 5: Fully Connected. Input = 400. Output = 84.\n",
    "    fc2_W  = tf.Variable(tf.truncated_normal(shape=(400, 84), mean = mu, stddev = sigma))\n",
    "    fc2_b  = tf.Variable(tf.zeros(84))\n",
    "    fc2    = tf.matmul(fc1, fc2_W) + fc2_b\n",
    "    \n",
    "    # Activation.\n",
    "    fc2    = tf.nn.leaky_relu(fc2)\n",
    "    \n",
    "    fc2    = tf.nn.dropout(fc2, keep_prob)\n",
    "\n",
    "    # Layer 6: Fully Connected. Input = 84. Output = 43.\n",
    "    fc3_W  = tf.Variable(tf.truncated_normal(shape=(84, n_classes), mean = mu, stddev = sigma))\n",
    "    fc3_b  = tf.Variable(tf.zeros(n_classes))\n",
    "    logits = tf.matmul(fc2, fc3_W) + fc3_b\n",
    "    \n",
    "    return logits\n"
   ]
  },
  {
   "cell_type": "markdown",
   "metadata": {},
   "source": [
    "### Train, Validate and Test the Model"
   ]
  },
  {
   "cell_type": "markdown",
   "metadata": {},
   "source": [
    "I trained the model using the training set for 50 epochs, evaluating it on the validation set on each one. I plotted the validation set accuracy on a plot at the bottom of this code block. It converges at approximately 97% accuracy, with a maximum of 97.4% attained at epoch 48. I used a learning rate of 0.0007 and a batch size of 96. "
   ]
  },
  {
   "cell_type": "code",
   "execution_count": 7,
   "metadata": {
    "scrolled": false
   },
   "outputs": [
    {
     "name": "stdout",
     "output_type": "stream",
     "text": [
      "Training...\n",
      "\n",
      "EPOCH 1 ...\n",
      "Validation Accuracy = 0.7190\n",
      "\n",
      "EPOCH 2 ...\n",
      "Validation Accuracy = 0.8492\n",
      "\n",
      "EPOCH 3 ...\n",
      "Validation Accuracy = 0.8896\n",
      "\n",
      "EPOCH 4 ...\n",
      "Validation Accuracy = 0.9138\n",
      "\n",
      "EPOCH 5 ...\n",
      "Validation Accuracy = 0.9345\n",
      "\n",
      "EPOCH 6 ...\n",
      "Validation Accuracy = 0.9415\n",
      "\n",
      "EPOCH 7 ...\n",
      "Validation Accuracy = 0.9429\n",
      "\n",
      "EPOCH 8 ...\n",
      "Validation Accuracy = 0.9415\n",
      "\n",
      "EPOCH 9 ...\n",
      "Validation Accuracy = 0.9440\n",
      "\n",
      "EPOCH 10 ...\n",
      "Validation Accuracy = 0.9517\n",
      "\n",
      "EPOCH 11 ...\n",
      "Validation Accuracy = 0.9488\n",
      "\n",
      "EPOCH 12 ...\n",
      "Validation Accuracy = 0.9483\n",
      "\n",
      "EPOCH 13 ...\n",
      "Validation Accuracy = 0.9560\n",
      "\n",
      "EPOCH 14 ...\n",
      "Validation Accuracy = 0.9551\n",
      "\n",
      "EPOCH 15 ...\n",
      "Validation Accuracy = 0.9574\n",
      "\n",
      "EPOCH 16 ...\n",
      "Validation Accuracy = 0.9619\n",
      "\n",
      "EPOCH 17 ...\n",
      "Validation Accuracy = 0.9639\n",
      "\n",
      "EPOCH 18 ...\n",
      "Validation Accuracy = 0.9558\n",
      "\n",
      "EPOCH 19 ...\n",
      "Validation Accuracy = 0.9592\n",
      "\n",
      "EPOCH 20 ...\n",
      "Validation Accuracy = 0.9655\n",
      "\n",
      "EPOCH 21 ...\n",
      "Validation Accuracy = 0.9639\n",
      "\n",
      "EPOCH 22 ...\n",
      "Validation Accuracy = 0.9590\n",
      "\n",
      "EPOCH 23 ...\n",
      "Validation Accuracy = 0.9621\n",
      "\n",
      "EPOCH 24 ...\n",
      "Validation Accuracy = 0.9669\n",
      "\n",
      "EPOCH 25 ...\n",
      "Validation Accuracy = 0.9678\n",
      "\n",
      "EPOCH 26 ...\n",
      "Validation Accuracy = 0.9658\n",
      "\n",
      "EPOCH 27 ...\n",
      "Validation Accuracy = 0.9687\n",
      "\n",
      "EPOCH 28 ...\n",
      "Validation Accuracy = 0.9669\n",
      "\n",
      "EPOCH 29 ...\n",
      "Validation Accuracy = 0.9683\n",
      "\n",
      "EPOCH 30 ...\n",
      "Validation Accuracy = 0.9619\n",
      "\n",
      "EPOCH 31 ...\n",
      "Validation Accuracy = 0.9610\n",
      "\n",
      "EPOCH 32 ...\n",
      "Validation Accuracy = 0.9671\n",
      "\n",
      "EPOCH 33 ...\n",
      "Validation Accuracy = 0.9655\n",
      "\n",
      "EPOCH 34 ...\n",
      "Validation Accuracy = 0.9624\n",
      "\n",
      "EPOCH 35 ...\n",
      "Validation Accuracy = 0.9669\n",
      "\n",
      "EPOCH 36 ...\n",
      "Validation Accuracy = 0.9608\n",
      "\n",
      "EPOCH 37 ...\n",
      "Validation Accuracy = 0.9673\n",
      "\n",
      "EPOCH 38 ...\n",
      "Validation Accuracy = 0.9660\n",
      "\n",
      "EPOCH 39 ...\n",
      "Validation Accuracy = 0.9662\n",
      "\n",
      "EPOCH 40 ...\n",
      "Validation Accuracy = 0.9692\n",
      "\n",
      "EPOCH 41 ...\n",
      "Validation Accuracy = 0.9692\n",
      "\n",
      "EPOCH 42 ...\n",
      "Validation Accuracy = 0.9660\n",
      "\n",
      "EPOCH 43 ...\n",
      "Validation Accuracy = 0.9667\n",
      "\n",
      "EPOCH 44 ...\n",
      "Validation Accuracy = 0.9678\n",
      "\n",
      "EPOCH 45 ...\n",
      "Validation Accuracy = 0.9705\n",
      "\n",
      "EPOCH 46 ...\n",
      "Validation Accuracy = 0.9712\n",
      "\n",
      "EPOCH 47 ...\n",
      "Validation Accuracy = 0.9726\n",
      "\n",
      "EPOCH 48 ...\n",
      "Validation Accuracy = 0.9744\n",
      "\n",
      "EPOCH 49 ...\n",
      "Validation Accuracy = 0.9683\n",
      "\n",
      "EPOCH 50 ...\n",
      "Validation Accuracy = 0.9701\n",
      "\n",
      "Model saved\n"
     ]
    },
    {
     "data": {
      "image/png": "[encoded data removed]",
      "text/plain": [
       "<Figure size 720x720 with 1 Axes>"
      ]
     },
     "metadata": {
      "needs_background": "light"
     },
     "output_type": "display_data"
    }
   ],
   "source": [
    "x = tf.placeholder(tf.float32, (None, 32, 32, 1))\n",
    "y = tf.placeholder(tf.int32, (None))\n",
    "one_hot_y = tf.one_hot(y, n_classes)\n",
    "keep_prob = tf.placeholder(tf.float32)\n",
    "\n",
    "rate = 0.0007\n",
    "EPOCHS = 50\n",
    "BATCH_SIZE = 96\n",
    "\n",
    "logits = LeNet6v2(x)\n",
    "cross_entropy = tf.nn.softmax_cross_entropy_with_logits(labels=one_hot_y, logits=logits)\n",
    "loss_operation = tf.reduce_mean(cross_entropy)\n",
    "\n",
    "optimizer = tf.train.AdamOptimizer(learning_rate = rate)\n",
    "training_operation = optimizer.minimize(loss_operation)\n",
    "\n",
    "correct_prediction = tf.equal(tf.argmax(logits, 1), tf.argmax(one_hot_y, 1))\n",
    "accuracy_operation = tf.reduce_mean(tf.cast(correct_prediction, tf.float32))\n",
    "saver = tf.train.Saver()\n",
    "\n",
    "def evaluate(X_data, y_data):\n",
    "    num_examples = len(X_data)\n",
    "    total_accuracy = 0\n",
    "    sess = tf.get_default_session()\n",
    "    for offset in range(0, num_examples, BATCH_SIZE):\n",
    "        batch_x, batch_y = X_data[offset:offset+BATCH_SIZE], y_data[offset:offset+BATCH_SIZE]\n",
    "        accuracy = sess.run(accuracy_operation, feed_dict={x: batch_x, y: batch_y, keep_prob: 1.0})\n",
    "        total_accuracy += (accuracy * len(batch_x))\n",
    "    return total_accuracy / num_examples\n",
    "\n",
    "plot_x = []\n",
    "plot_y = []\n",
    "\n",
    "with tf.Session() as sess:\n",
    "    sess.run(tf.global_variables_initializer())\n",
    "    num_examples = len(X_train)\n",
    "    \n",
    "    print(\"Training...\")\n",
    "    print()\n",
    "    for i in range(EPOCHS):\n",
    "        X_train, y_train = shuffle(X_train, y_train)\n",
    "        for offset in range(0, num_examples, BATCH_SIZE):\n",
    "            end = offset + BATCH_SIZE\n",
    "            batch_x, batch_y = X_train[offset:end], y_train[offset:end]\n",
    "            sess.run(training_operation, feed_dict={x: batch_x, y: batch_y, keep_prob: 0.5})\n",
    "            \n",
    "        validation_accuracy = evaluate(X_valid, y_valid)\n",
    "        #train_accuracy = evaluate(X_train, y_train)\n",
    "        plot_x.append(i)\n",
    "        plot_y.append(validation_accuracy)\n",
    "        print(\"EPOCH {} ...\".format(i+1))\n",
    "        print(\"Validation Accuracy = {:.4f}\".format(validation_accuracy))\n",
    "        #print(\"Training Accuracy = {:.4f}\".format(train_accuracy))\n",
    "        print()\n",
    "        \n",
    "    saver.save(sess, './lenet')\n",
    "    print(\"Model saved\")\n",
    "    plt.figure(figsize=(10,10))\n",
    "    plt.plot(plot_x, plot_y)\n",
    "    plt.show()"
   ]
  },
  {
   "cell_type": "markdown",
   "metadata": {},
   "source": [
    "### Run on test set"
   ]
  },
  {
   "cell_type": "code",
   "execution_count": 66,
   "metadata": {},
   "outputs": [
    {
     "name": "stdout",
     "output_type": "stream",
     "text": [
      "INFO:tensorflow:Restoring parameters from .\\lenet\n",
      "Test Accuracy = 0.954\n"
     ]
    }
   ],
   "source": [
    "with tf.Session() as sess:\n",
    "    saver.restore(sess, tf.train.latest_checkpoint('.'))\n",
    "\n",
    "    test_accuracy = evaluate(X_test, y_test)\n",
    "    print(\"Test Accuracy = {:.3f}\".format(test_accuracy))"
   ]
  },
  {
   "cell_type": "markdown",
   "metadata": {},
   "source": [
    "---\n",
    "\n",
    "## Step 3: Test a Model on New Images\n",
    "\n",
    "Picked out random images from Google and cropped them into a square and scaled them down to be 32x32. Converted to grayscale in the code block below."
   ]
  },
  {
   "cell_type": "markdown",
   "metadata": {},
   "source": [
    "### Load and Output the Images"
   ]
  },
  {
   "cell_type": "code",
   "execution_count": 67,
   "metadata": {},
   "outputs": [
    {
     "name": "stdout",
     "output_type": "stream",
     "text": [
      "(5, 32, 32, 1)\n"
     ]
    },
    {
     "data": {
      "image/png": "[encoded data removed]",
      "text/plain": [
       "<Figure size 216x216 with 1 Axes>"
      ]
     },
     "metadata": {
      "needs_background": "light"
     },
     "output_type": "display_data"
    },
    {
     "data": {
      "image/png": "[encoded data removed]",
      "text/plain": [
       "<Figure size 216x216 with 1 Axes>"
      ]
     },
     "metadata": {
      "needs_background": "light"
     },
     "output_type": "display_data"
    },
    {
     "data": {
      "image/png": "[encoded data removed]",
      "text/plain": [
       "<Figure size 216x216 with 1 Axes>"
      ]
     },
     "metadata": {
      "needs_background": "light"
     },
     "output_type": "display_data"
    },
    {
     "data": {
      "image/png": "[encoded data removed]",
      "text/plain": [
       "<Figure size 216x216 with 1 Axes>"
      ]
     },
     "metadata": {
      "needs_background": "light"
     },
     "output_type": "display_data"
    },
    {
     "data": {
      "image/png": "[encoded data removed]",
      "text/plain": [
       "<Figure size 216x216 with 1 Axes>"
      ]
     },
     "metadata": {
      "needs_background": "light"
     },
     "output_type": "display_data"
    }
   ],
   "source": [
    "### Load the images and plot them here.\n",
    "### Feel free to use as many code cells as needed.\n",
    "import matplotlib.image as mpimg\n",
    "import glob\n",
    "import cv2\n",
    "\n",
    "names = glob.glob('test_images/*.jpg')\n",
    "\n",
    "test_imgs = []\n",
    "test_imgs_color = []\n",
    "\n",
    "for fname in names:\n",
    "    new_img = mpimg.imread(fname)\n",
    "    test_imgs_color.append(new_img)\n",
    "    \n",
    "    grey = np.mean(new_img, axis=2, keepdims=True)\n",
    "    test_imgs.append(grey)\n",
    "    \n",
    "    plt.figure(figsize=(3,3))\n",
    "    plt.imshow(new_img)\n",
    "\n",
    "test_arr = np.asarray(test_imgs)\n",
    "print(test_arr.shape)"
   ]
  },
  {
   "cell_type": "markdown",
   "metadata": {},
   "source": [
    "### Output Top 5 Softmax Probabilities For Each Image Found on the Web"
   ]
  },
  {
   "cell_type": "markdown",
   "metadata": {},
   "source": [
    "For each of the new images, print out the model's softmax probabilities to show the **certainty** of the model's predictions (limit the output to the top 5 probabilities for each image). [`tf.nn.top_k`](https://www.tensorflow.org/versions/r0.12/api_docs/python/nn.html#top_k) could prove helpful here. \n",
    "\n",
    "The example below demonstrates how tf.nn.top_k can be used to find the top k predictions for each image.\n",
    "\n",
    "`tf.nn.top_k` will return the values and indices (class ids) of the top k predictions. So if k=3, for each sign, it'll return the 3 largest probabilities (out of a possible 43) and the correspoding class ids.\n",
    "\n",
    "Take this numpy array as an example. The values in the array represent predictions. The array contains softmax probabilities for five candidate images with six possible classes. `tf.nn.top_k` is used to choose the three classes with the highest probability:\n",
    "\n",
    "```\n",
    "# (5, 6) array\n",
    "a = np.array([[ 0.24879643,  0.07032244,  0.12641572,  0.34763842,  0.07893497,\n",
    "         0.12789202],\n",
    "       [ 0.28086119,  0.27569815,  0.08594638,  0.0178669 ,  0.18063401,\n",
    "         0.15899337],\n",
    "       [ 0.26076848,  0.23664738,  0.08020603,  0.07001922,  0.1134371 ,\n",
    "         0.23892179],\n",
    "       [ 0.11943333,  0.29198961,  0.02605103,  0.26234032,  0.1351348 ,\n",
    "         0.16505091],\n",
    "       [ 0.09561176,  0.34396535,  0.0643941 ,  0.16240774,  0.24206137,\n",
    "         0.09155967]])\n",
    "```\n",
    "\n",
    "Running it through `sess.run(tf.nn.top_k(tf.constant(a), k=3))` produces:\n",
    "\n",
    "```\n",
    "TopKV2(values=array([[ 0.34763842,  0.24879643,  0.12789202],\n",
    "       [ 0.28086119,  0.27569815,  0.18063401],\n",
    "       [ 0.26076848,  0.23892179,  0.23664738],\n",
    "       [ 0.29198961,  0.26234032,  0.16505091],\n",
    "       [ 0.34396535,  0.24206137,  0.16240774]]), indices=array([[3, 0, 5],\n",
    "       [0, 1, 4],\n",
    "       [0, 5, 1],\n",
    "       [1, 3, 5],\n",
    "       [1, 4, 3]], dtype=int32))\n",
    "```\n",
    "\n",
    "Looking just at the first row we get `[ 0.34763842,  0.24879643,  0.12789202]`, you can confirm these are the 3 largest probabilities in `a`. You'll also notice `[3, 0, 5]` are the corresponding indices."
   ]
  },
  {
   "cell_type": "markdown",
   "metadata": {},
   "source": [
    "## Evaluation of Model Performance\n",
    "\n",
    "I fed the model into the following code block, along with the 5 test images found online. I used the tf.nn.top_k function to output the top 5 softmax probabilities and the results were unexpectedly accurate. Not only did the model classify each sign correctly, it did so **with a 100% probability for each one**. Of course, extending to thousands more examples will begin to expose errors in the classifier, but this was completely unexpected, to say the least. Perhaps the images I picked were quite clear, and that passing in images taken in sub-optimal conditions might cause classification errors, but that could be a future test to be done.\n",
    "\n",
    "Therefore, the top 5 output array information is patently useless after the main prediction, since it appears to just output the first 4 labels in the softmax layer with exactly 0.0% probability. I'm assuming this is some type of tie-breaker for equal probabilities."
   ]
  },
  {
   "cell_type": "code",
   "execution_count": 87,
   "metadata": {},
   "outputs": [
    {
     "name": "stdout",
     "output_type": "stream",
     "text": [
      "INFO:tensorflow:Restoring parameters from ./lenet\n",
      "Image # 1\n",
      "14 : Stop with 100.0 % probability\n",
      "0 : Speed limit (20km/h) with 0.0 % probability\n",
      "1 : Speed limit (30km/h) with 0.0 % probability\n",
      "2 : Speed limit (50km/h) with 0.0 % probability\n",
      "3 : Speed limit (60km/h) with 0.0 % probability\n",
      "\n",
      "Image # 2\n",
      "18 : General caution with 100.0 % probability\n",
      "0 : Speed limit (20km/h) with 0.0 % probability\n",
      "1 : Speed limit (30km/h) with 0.0 % probability\n",
      "2 : Speed limit (50km/h) with 0.0 % probability\n",
      "3 : Speed limit (60km/h) with 0.0 % probability\n",
      "\n",
      "Image # 3\n",
      "34 : Turn left ahead with 100.0 % probability\n",
      "0 : Speed limit (20km/h) with 0.0 % probability\n",
      "1 : Speed limit (30km/h) with 0.0 % probability\n",
      "2 : Speed limit (50km/h) with 0.0 % probability\n",
      "3 : Speed limit (60km/h) with 0.0 % probability\n",
      "\n",
      "Image # 4\n",
      "22 : Bumpy road with 100.0 % probability\n",
      "0 : Speed limit (20km/h) with 0.0 % probability\n",
      "1 : Speed limit (30km/h) with 0.0 % probability\n",
      "2 : Speed limit (50km/h) with 0.0 % probability\n",
      "3 : Speed limit (60km/h) with 0.0 % probability\n",
      "\n",
      "Image # 5\n",
      "1 : Speed limit (30km/h) with 100.0 % probability\n",
      "0 : Speed limit (20km/h) with 0.0 % probability\n",
      "2 : Speed limit (50km/h) with 0.0 % probability\n",
      "3 : Speed limit (60km/h) with 0.0 % probability\n",
      "4 : Speed limit (70km/h) with 0.0 % probability\n",
      "\n"
     ]
    }
   ],
   "source": [
    "softmax_logits = tf.nn.softmax(logits)\n",
    "top_k = tf.nn.top_k(softmax_logits, k=5)\n",
    "\n",
    "with tf.Session() as sess:\n",
    "    sess.run(tf.global_variables_initializer())\n",
    "    saver = tf.train.import_meta_graph('./lenet.meta')\n",
    "    saver.restore(sess, \"./lenet\")\n",
    "    my = sess.run(softmax_logits, feed_dict={x: test_arr, keep_prob: 1.0})\n",
    "    topkvals = sess.run(top_k, feed_dict={x: test_arr, keep_prob: 1.0})\n",
    "    \n",
    "    #print(topkvals.values)\n",
    "    for imageidx in range(len(topkvals.indices)):\n",
    "        print(\"Image #\", imageidx+1)\n",
    "        for pred_idx in range(len(topkvals.indices[imageidx])):   \n",
    "            print(topkvals.indices[imageidx][pred_idx], \":\", label_lookup[str(topkvals.indices[imageidx][pred_idx])], \"with\", topkvals.values[imageidx][pred_idx]*100, \"% probability\")\n",
    "        print()\n",
    "        "
   ]
  }
 ],
 "metadata": {
  "anaconda-cloud": {},
  "kernelspec": {
   "display_name": "Python 3",
   "language": "python",
   "name": "python3"
  },
  "language_info": {
   "codemirror_mode": {
    "name": "ipython",
    "version": 3
   },
   "file_extension": ".py",
   "mimetype": "text/x-python",
   "name": "python",
   "nbconvert_exporter": "python",
   "pygments_lexer": "ipython3",
   "version": "3.7.3"
  }
 },
 "nbformat": 4,
 "nbformat_minor": 1
}
